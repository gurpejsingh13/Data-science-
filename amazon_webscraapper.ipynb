{
  "nbformat": 4,
  "nbformat_minor": 0,
  "metadata": {
    "colab": {
      "provenance": [],
      "toc_visible": true
    },
    "kernelspec": {
      "name": "python3",
      "display_name": "Python 3"
    },
    "language_info": {
      "name": "python"
    }
  },
  "cells": [
    {
      "cell_type": "code",
      "execution_count": 8,
      "metadata": {
        "colab": {
          "base_uri": "https://localhost:8080/"
        },
        "id": "JU_Iz9Z9Xs4i",
        "outputId": "bc9d26dc-0138-4378-890a-6e367d09c61d"
      },
      "outputs": [
        {
          "output_type": "stream",
          "name": "stdout",
          "text": [
            "Product Title = Sony PlayStation 4 Pro 1TB Console - Black (PS4 Pro)\n",
            "Product Price = \n",
            "Product Rating = 4.5 out of 5 stars\n",
            "Number of Product Reviews = 4,190 ratings\n",
            "Availability = Only 1 left in stock - order soon.\n",
            "\n",
            "\n"
          ]
        }
      ],
      "source": [
        "from bs4 import BeautifulSoup\n",
        "import requests\n",
        "\n",
        "# Function to extract Product Title\n",
        "def get_title(soup):\n",
        "\t\n",
        "\ttry:\n",
        "\t\t# Outer Tag Object\n",
        "\t\ttitle = soup.find(\"span\", attrs={\"id\":'productTitle'})\n",
        "\n",
        "\t\t# Inner NavigableString Object\n",
        "\t\ttitle_value = title.string\n",
        "\n",
        "\t\t# Title as a string value\n",
        "\t\ttitle_string = title_value.strip()\n",
        "\n",
        "\t\t# # Printing types of values for efficient understanding\n",
        "\t\t# print(type(title))\n",
        "\t\t# print(type(title_value))\n",
        "\t\t# print(type(title_string))\n",
        "\t\t# print()\n",
        "\n",
        "\texcept AttributeError:\n",
        "\t\ttitle_string = \"\"\t\n",
        "\n",
        "\treturn title_string\n",
        "\n",
        "# Function to extract Product Price\n",
        "def get_price(soup):\n",
        "\n",
        "\ttry:\n",
        "\t\tprice = soup.find(\"span\", attrs={'id':'priceblock_ourprice'}).string.strip()\n",
        "\n",
        "\texcept AttributeError:\n",
        "\t\tprice = \"\"\t\n",
        "\n",
        "\treturn price\n",
        "\n",
        "# Function to extract Product Rating\n",
        "def get_rating(soup):\n",
        "\n",
        "\ttry:\n",
        "\t\trating = soup.find(\"i\", attrs={'class':'a-icon a-icon-star a-star-4-5'}).string.strip()\n",
        "\t\t\n",
        "\texcept AttributeError:\n",
        "\t\t\n",
        "\t\ttry:\n",
        "\t\t\trating = soup.find(\"span\", attrs={'class':'a-icon-alt'}).string.strip()\n",
        "\t\texcept:\n",
        "\t\t\trating = \"\"\t\n",
        "\n",
        "\treturn rating\n",
        "\n",
        "# Function to extract Number of User Reviews\n",
        "def get_review_count(soup):\n",
        "\ttry:\n",
        "\t\treview_count = soup.find(\"span\", attrs={'id':'acrCustomerReviewText'}).string.strip()\n",
        "\t\t\n",
        "\texcept AttributeError:\n",
        "\t\treview_count = \"\"\t\n",
        "\n",
        "\treturn review_count\n",
        "\n",
        "# Function to extract Availability Status\n",
        "def get_availability(soup):\n",
        "\ttry:\n",
        "\t\tavailable = soup.find(\"div\", attrs={'id':'availability'})\n",
        "\t\tavailable = available.find(\"span\").string.strip()\n",
        "\n",
        "\texcept AttributeError:\n",
        "\t\tavailable = \"\"\t\n",
        "\n",
        "\treturn available\t\n",
        "\n",
        "if __name__ == '__main__':\n",
        "\n",
        "\t# Headers for request\n",
        "\tHEADERS = ({'User-Agent':\n",
        "\t            'Mozilla/5.0 (X11; Linux x86_64) AppleWebKit/537.36 (KHTML, like Gecko) Chrome/44.0.2403.157 Safari/537.36',\n",
        "\t            'Accept-Language': 'en-US, en;q=0.5'})\n",
        "\n",
        "\t# The webpage URL\n",
        "\tURL = \"https://www.amazon.com/Sony-PlayStation-Pro-1TB-Console-4/dp/B07K14XKZH/\"\n",
        "\n",
        "\t# HTTP Request\n",
        "\twebpage = requests.get(URL, headers=HEADERS)\n",
        "\n",
        "\t# Soup Object containing all data\n",
        "\tsoup = BeautifulSoup(webpage.content, \"lxml\")\n",
        "\n",
        "\t# Function calls to display all necessary product information\n",
        "\tprint(\"Product Title =\", get_title(soup))\n",
        "\tprint(\"Product Price =\", get_price(soup))\n",
        "\tprint(\"Product Rating =\", get_rating(soup))\n",
        "\tprint(\"Number of Product Reviews =\", get_review_count(soup))\n",
        "\tprint(\"Availability =\", get_availability(soup))\n",
        "\tprint()\n",
        "\tprint()"
      ]
    },
    {
      "cell_type": "code",
      "source": [],
      "metadata": {
        "id": "EV6mOa46QdcT"
      },
      "execution_count": null,
      "outputs": []
    },
    {
      "cell_type": "code",
      "source": [],
      "metadata": {
        "id": "lP8bC4SPYcDd"
      },
      "execution_count": null,
      "outputs": []
    }
  ]
}